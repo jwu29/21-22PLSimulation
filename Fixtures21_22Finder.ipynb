{
 "cells": [
  {
   "cell_type": "code",
   "execution_count": 1,
   "id": "3b86e912",
   "metadata": {},
   "outputs": [
    {
     "name": "stdout",
     "output_type": "stream",
     "text": [
      "                         Team       Date           Goals  TotalMins  MatchID  \\\n",
      "0                   Brentford 2021-08-13           22*75         98    66342   \n",
      "1                     Arsenal 2021-08-13              -1         98    66342   \n",
      "2                     Burnley 2021-08-14               2         99    66343   \n",
      "3    Brighton and Hove Albion 2021-08-14           77*82         99    66343   \n",
      "4                     Chelsea 2021-08-14        27*40*60         95    66344   \n",
      "..                        ...        ...             ...        ...      ...   \n",
      "755   Wolverhampton Wanderers 2022-05-22               3        100    66719   \n",
      "756           Manchester City 2022-05-22        80*85*82         99    66720   \n",
      "757               Aston Villa 2022-05-22           37*73         99    66720   \n",
      "758              Norwich City 2022-05-22              -1         92    66721   \n",
      "759         Tottenham Hotspur 2022-05-22  16*65*32*71*76         92    66721   \n",
      "\n",
      "     GoalsNum HomeOrAway  \n",
      "0           2       Home  \n",
      "1           0       Away  \n",
      "2           1       Home  \n",
      "3           2       Away  \n",
      "4           3       Home  \n",
      "..        ...        ...  \n",
      "755         1       Away  \n",
      "756         3       Home  \n",
      "757         2       Away  \n",
      "758         0       Home  \n",
      "759         5       Away  \n",
      "\n",
      "[760 rows x 7 columns]\n"
     ]
    }
   ],
   "source": [
    "import pandas as pd\n",
    "\n",
    "df = pd.read_csv('/Users/josiahwu29/Desktop/SummerResearchY1/GoalMins.csv')\n",
    "Teams = ['Arsenal',\n",
    "            'Aston Villa',\n",
    "            'Brentford',\n",
    "            'Brighton and Hove Albion',\n",
    "            'Burnley',\n",
    "            'Chelsea',\n",
    "            'Crystal Palace',\n",
    "            'Everton',\n",
    "            'Leeds United',\n",
    "            'Leicester City',\n",
    "            'Liverpool',\n",
    "            'Manchester City',\n",
    "            'Manchester United',\n",
    "            'Newcastle United',\n",
    "            'Norwich City',\n",
    "            'Southampton',\n",
    "            'Tottenham Hotspur',\n",
    "            'Watford',\n",
    "            'West Ham United',\n",
    "            'Wolverhampton Wanderers']\n",
    "df['Date'] = pd.to_datetime(df['Date'],dayfirst=True)\n",
    "print(df)"
   ]
  },
  {
   "cell_type": "code",
   "execution_count": 2,
   "id": "9c9da3c3",
   "metadata": {},
   "outputs": [
    {
     "name": "stdout",
     "output_type": "stream",
     "text": [
      "                        Team       Date   Goals  TotalMins  MatchID  \\\n",
      "1                    Arsenal 2021-08-13      -1         98    66342   \n",
      "20                   Arsenal 2021-08-22      -1         97    66352   \n",
      "49                   Arsenal 2021-08-28      -1         98    66366   \n",
      "60                   Arsenal 2021-09-11      67         96    66372   \n",
      "85                   Arsenal 2021-09-18      30         98    66384   \n",
      "..                       ...        ...     ...        ...      ...   \n",
      "698  Wolverhampton Wanderers 2022-04-30      -1         98    66691   \n",
      "709  Wolverhampton Wanderers 2022-05-07  83*101        103    66696   \n",
      "658  Wolverhampton Wanderers 2022-05-11      11         97    66671   \n",
      "738  Wolverhampton Wanderers 2022-05-15      57         97    66711   \n",
      "755  Wolverhampton Wanderers 2022-05-22       3        100    66719   \n",
      "\n",
      "                  AgainstTeam HomeOrAway  GoalsNum  \n",
      "1                   Brentford       Away         0  \n",
      "20                    Chelsea       Home         0  \n",
      "49            Manchester City       Away         0  \n",
      "60               Norwich City       Home         1  \n",
      "85                    Burnley       Away         1  \n",
      "..                        ...        ...       ...  \n",
      "698  Brighton and Hove Albion       Home         0  \n",
      "709                   Chelsea       Away         2  \n",
      "658           Manchester City       Home         1  \n",
      "738              Norwich City       Home         1  \n",
      "755                 Liverpool       Away         1  \n",
      "\n",
      "[760 rows x 8 columns]\n"
     ]
    }
   ],
   "source": [
    "import numpy as np\n",
    "Fixtures = pd.DataFrame()\n",
    "\n",
    "for i in range(20):\n",
    "    thirtyeight = [Teams[i]]*38\n",
    "    FixturesList = []\n",
    "    dft = df[df['Team']==Teams[i]]\n",
    "    IDs = dft['MatchID'].tolist()\n",
    "    \n",
    "    IDMatchesF = df[np.logical_and(df['MatchID'].isin(IDs),df['Team']==Teams[i])].sort_values('Date',ascending=True)\n",
    "    IDMatchesA = df[np.logical_and(df['MatchID'].isin(IDs),df['Team']!=Teams[i])].sort_values('Date',ascending=True)\n",
    "    \n",
    "    T_List = IDMatchesA['Team'].tolist()\n",
    "    \n",
    "    IDMatchesF = IDMatchesF.assign(AgainstTeam = T_List)\n",
    "    \n",
    "    Fixtures = pd.concat([Fixtures,IDMatchesF])\n",
    "\n",
    "Fixtures = Fixtures[['Team','Date','Goals','TotalMins','MatchID','AgainstTeam','HomeOrAway','GoalsNum']]\n",
    "Fixtures = Fixtures.sort_values(['Team','Date'],ascending=True)\n",
    "print(Fixtures)\n",
    "\n",
    "Fixtures.to_csv('FixturesByTeam.csv')"
   ]
  },
  {
   "cell_type": "code",
   "execution_count": null,
   "id": "fcb32778",
   "metadata": {},
   "outputs": [],
   "source": []
  }
 ],
 "metadata": {
  "kernelspec": {
   "display_name": "Python 3",
   "language": "python",
   "name": "python3"
  },
  "language_info": {
   "codemirror_mode": {
    "name": "ipython",
    "version": 3
   },
   "file_extension": ".py",
   "mimetype": "text/x-python",
   "name": "python",
   "nbconvert_exporter": "python",
   "pygments_lexer": "ipython3",
   "version": "3.8.8"
  }
 },
 "nbformat": 4,
 "nbformat_minor": 5
}
